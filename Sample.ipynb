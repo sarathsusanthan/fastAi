{
 "cells": [
  {
   "cell_type": "markdown",
   "id": "5cd00ba1-88a7-42ae-a59d-488492437752",
   "metadata": {},
   "source": [
    "## Walkthru sample notebook"
   ]
  },
  {
   "cell_type": "markdown",
   "id": "76e3f9d3-a796-43cd-96b0-118e0d4086c7",
   "metadata": {},
   "source": [
    "Here is How I calculate `1+1`:"
   ]
  },
  {
   "cell_type": "code",
   "execution_count": 3,
   "id": "32e1add2-0537-4477-8015-02a7483f8e22",
   "metadata": {
    "tags": []
   },
   "outputs": [
    {
     "data": {
      "text/plain": [
       "2"
      ]
     },
     "execution_count": 3,
     "metadata": {},
     "output_type": "execute_result"
    }
   ],
   "source": [
    "1+1"
   ]
  },
  {
   "cell_type": "code",
   "execution_count": 5,
   "id": "70513298-e1b8-42aa-a551-62d28c7232c2",
   "metadata": {
    "tags": []
   },
   "outputs": [],
   "source": [
    "from numpy import *"
   ]
  },
  {
   "cell_type": "markdown",
   "id": "37d23e9b-a31f-43a7-818c-ac0b4d9195fe",
   "metadata": {},
   "source": [
    "Here is How I calculate `sin`:"
   ]
  },
  {
   "cell_type": "code",
   "execution_count": 6,
   "id": "818b3f25-798e-4f91-af15-7a24cd17456a",
   "metadata": {
    "tags": []
   },
   "outputs": [
    {
     "data": {
      "text/plain": [
       "array([0.84147098, 1.        ])"
      ]
     },
     "execution_count": 6,
     "metadata": {},
     "output_type": "execute_result"
    }
   ],
   "source": [
    "a = array([1.0,pi/2])\n",
    "sin(a)"
   ]
  },
  {
   "cell_type": "code",
   "execution_count": null,
   "id": "f050de61-8062-4f81-ae01-ad8d1defa9e8",
   "metadata": {},
   "outputs": [],
   "source": []
  }
 ],
 "metadata": {
  "kernelspec": {
   "display_name": "Python 3 (ipykernel)",
   "language": "python",
   "name": "python3"
  },
  "language_info": {
   "codemirror_mode": {
    "name": "ipython",
    "version": 3
   },
   "file_extension": ".py",
   "mimetype": "text/x-python",
   "name": "python",
   "nbconvert_exporter": "python",
   "pygments_lexer": "ipython3",
   "version": "3.10.10"
  }
 },
 "nbformat": 4,
 "nbformat_minor": 5
}
